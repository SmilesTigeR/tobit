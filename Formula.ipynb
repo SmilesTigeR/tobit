{
 "cells": [
  {
   "cell_type": "markdown",
   "id": "e39ca49e",
   "metadata": {},
   "source": [
    "# Tobit Regression\n",
    "  \n",
    "## Formation\n",
    "  \n",
    "\\begin{aligned} Y^{*} = X^{'}\\beta+\\varepsilon \\end{aligned}  \n",
    "  \n",
    "\\begin{aligned} Y = \\begin{cases} a, & \\mbox{if } Y^{*} \\le a \\\\ Y^{*}, & \\mbox{if } a < Y^{*} < b \\\\ b, & \\mbox{if } Y^{*} \\ge b \\end{cases} \\end{aligned}  \n",
    "  \n",
    "where,  \n",
    "- $X=\\begin{pmatrix} x_{1} \\\\ \\vdots \\\\ x_{p} \\end{pmatrix}$\n",
    "- $\\beta=\\begin{pmatrix} \\beta_{1} \\\\ \\vdots \\\\ \\beta_{p} \\end{pmatrix}$\n",
    "- $\\varepsilon \\sim N(0, \\sigma^2)$\n",
    "  \n",
    "## Likelihood Function\n",
    "  \n",
    "\\begin{aligned} L = \\prod_{i=1}^n{[I_{i}^{a}\\Phi(\\frac{a-X_{i}^{'}\\beta}{\\sigma})] \\times [I_{i}^{b}(1-\\Phi(\\frac{b-X_{i}^{'}\\beta}{\\sigma}))] \\times [(1-I_{i}^{a}-I_{i}^{b})\\frac{1}{\\sigma}\\phi(\\frac{y_{i}-X_{i}^{'}\\beta}{\\sigma})}] \\end{aligned}  \n",
    "  \n",
    "where,  \n",
    "- $I_{i}^{a}=\\begin{cases} 1, & \\mbox{if } y_{i} = a \\\\ 0, & \\mbox{if } y_{i} > a \\end{cases}$\n",
    "- $I_{i}^{b}=\\begin{cases} 1, & \\mbox{if } y_{i} = b \\\\ 0, & \\mbox{if } y_{i} < b \\end{cases}$\n",
    "- $X_{i}=\\begin{pmatrix} x_{i1} \\\\ \\vdots \\\\ x_{ip} \\end{pmatrix}$\n",
    "- $\\phi(\\cdot)$ is standard normal probability density function (PDF)\n",
    "- $\\Phi(\\cdot)$ is standard normal cumulative density function (CDF)\n",
    "  \n",
    "## Log-likelihood Function\n",
    "  \n",
    "\\begin{aligned} l = \\log{L} = \\sum_{i=1}^{n}{I_{i}^{a}\\log{\\Phi(\\frac{a-X_{i}^{'}\\beta}{\\sigma})+I_{i}^{b}\\log{(1-\\Phi(\\frac{b-X_{i}^{'}\\beta}{\\sigma}))}+(1-I_{i}^{a}-I_{i}^{b})(\\log{\\phi(\\frac{y_{i}-X_{i}^{'}\\beta}{\\sigma})}-\\frac{1}{2}\\log{\\sigma^2})}} \\end{aligned}  \n",
    "  \n",
    "## Score Function (First Derivation)\n",
    "  \n",
    "\\begin{aligned} \\frac{\\partial{l}}{\\partial{\\beta}}=\\sum_{i=1}^{n}{(-I_{i}^{a}\\frac{\\phi(\\frac{a-X_{i}^{'}\\beta}{\\sigma})}{\\Phi(\\frac{a-X_{i}^{'}\\beta}{\\sigma})}+I_{i}^{b}\\frac{\\phi(\\frac{b-X_{i}^{'}\\beta}{\\sigma})}{1-\\Phi(\\frac{b-X_{i}^{'}\\beta}{\\sigma})}+(1-I_{i}^{a}-I_{i}^{b})\\frac{y_{i}-X_{i}^{'}\\beta}{\\sigma})\\frac{X_{i}^{'}}{\\sigma}} \\end{aligned} \n",
    "\\begin{aligned} \\frac{\\partial{l}}{\\partial{\\sigma^2}}=\\frac{1}{2\\sigma}\\frac{\\partial{l}}{\\partial{\\sigma}}=\\sum_{i=1}^{n}{\\frac{1}{2\\sigma^2}(-I_{i}^{a}\\frac{\\phi(\\frac{a-X_{i}^{'}\\beta}{\\sigma})}{\\Phi(\\frac{a-X_{i}^{'}\\beta}{\\sigma})}\\frac{a-X_{i}^{'}\\beta}{\\sigma}+I_{i}^{b}\\frac{\\phi(\\frac{b-X_{i}^{'}\\beta}{\\sigma})}{1-\\Phi(\\frac{b-X_{i}^{'}\\beta}{\\sigma})}\\frac{b-X_{i}^{'}\\beta}{\\sigma}+(1-I_{i}^{a}-I_{i}^{b})((\\frac{y_{i}-X_{i}^{'}\\beta}{\\sigma})^2-1))} \\end{aligned}  \n",
    "  \n",
    "## Hessian Matrix (Second Derivation)\n",
    "  \n",
    "\\begin{aligned} -\\frac{\\partial{l}}{\\partial{\\beta}\\partial{\\beta^{'}}}=\\sum_{i=1}^{n}{\\frac{X_{i}}{\\sigma}(I_{i}^{a}\\frac{\\phi(\\frac{a-X_{i}^{'}\\beta}{\\sigma})(\\Phi(\\frac{a-X_{i}^{'}\\beta}{\\sigma})\\frac{a-X_{i}^{'}\\beta}{\\sigma}+\\phi(\\frac{a-X_{i}^{'}\\beta}{\\sigma}))}{(\\Phi(\\frac{a-X_{i}^{'}\\beta}{\\sigma}))^{2}}-I_{i}^{b}\\frac{\\phi(\\frac{b-X_{i}^{'}\\beta}{\\sigma})((1-\\Phi(\\frac{b-X_{i}^{'}\\beta}{\\sigma}))\\frac{b-X_{i}^{'}\\beta}{\\sigma}-\\phi(\\frac{b-X_{i}^{'}\\beta}{\\sigma}))}{(1-\\Phi(\\frac{b-X_{i}^{'}\\beta}{\\sigma}))^{2}}+(1-I_{i}^{a}-I_{i}^{b}))\\frac{X_{i}^{'}}{\\sigma}} \\end{aligned} \n",
    "  \n",
    "## Prediction\n",
    "\\begin{aligned} E(Y|X)=\\Phi(\\frac{a-X_{i}^{'}\\beta}{\\sigma})\\times a+(1-\\Phi(\\frac{b-X_{i}^{'}\\beta}{\\sigma}))\\times b+(\\Phi(\\frac{b-X_{i}^{'}\\beta}{\\sigma})-\\Phi(\\frac{a-X_{i}^{'}\\beta}{\\sigma}))\\times (X_{i}^{'}\\beta-\\sigma\\frac{\\phi(\\frac{b_{i}-X_{i}^{'}\\beta}{\\sigma})-\\phi(\\frac{a_{i}-X_{i}^{'}\\beta}{\\sigma})}{\\Phi(\\frac{b-X_{i}^{'}\\beta}{\\sigma})-\\Phi(\\frac{a-X_{i}^{'}\\beta}{\\sigma})})\\end{aligned}"
   ]
  },
  {
   "cell_type": "code",
   "execution_count": null,
   "id": "510d039d",
   "metadata": {},
   "outputs": [],
   "source": []
  }
 ],
 "metadata": {
  "kernelspec": {
   "display_name": "Python 3",
   "language": "python",
   "name": "python3"
  },
  "language_info": {
   "codemirror_mode": {
    "name": "ipython",
    "version": 3
   },
   "file_extension": ".py",
   "mimetype": "text/x-python",
   "name": "python",
   "nbconvert_exporter": "python",
   "pygments_lexer": "ipython3",
   "version": "3.10.9"
  }
 },
 "nbformat": 4,
 "nbformat_minor": 5
}
